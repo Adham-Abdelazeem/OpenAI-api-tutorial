{
 "cells": [
  {
   "cell_type": "code",
   "execution_count": 6,
   "metadata": {},
   "outputs": [],
   "source": [
    "import os\n",
    "from openai import OpenAI"
   ]
  },
  {
   "cell_type": "code",
   "execution_count": 7,
   "metadata": {},
   "outputs": [],
   "source": [
    "my_sk = \"sk-\" # complete with your own unique secret key"
   ]
  },
  {
   "cell_type": "markdown",
   "metadata": {},
   "source": [
    "### First Call"
   ]
  },
  {
   "cell_type": "markdown",
   "metadata": {},
   "source": [
    "the role (system): define the tone/context of the response\n",
    "the role (user): is the message request itself\n",
    "the role (assistant): is the response itself , when we write it  , that means we make an example to the api to give us similer like response"
   ]
  },
  {
   "cell_type": "code",
   "execution_count": 63,
   "metadata": {},
   "outputs": [],
   "source": [
    "# create a chat completion\n",
    "\n",
    "\n",
    "client = OpenAI(\n",
    "    # This is the default and can be omitted\n",
    "    api_key=my_sk,\n",
    ")\n",
    "\n",
    "chat_completion = client.chat.completions.create(\n",
    "    messages=[\n",
    "        {\"role\": \"user\",\"content\": \"Listen to your\",},\n",
    "        # {\"role\": \"system\", \"content\": \"reply with analogy\"}\n",
    "    ],\n",
    "    model=\"gpt-3.5-turbo\",\n",
    "    # max_completion_tokens=3,  #The maximum number of tokens that can be generated\n",
    "    # max_tokens= 1 # deprecated\n",
    "    n = 3 , # number of responses\n",
    "    temperature = 0, # Between 0 and 2 , Zero makes the response more restrict, that translates to the same response each time, Higher values like 0.8 will make the output more random\n",
    "\n",
    ")"
   ]
  },
  {
   "cell_type": "code",
   "execution_count": 64,
   "metadata": {},
   "outputs": [
    {
     "data": {
      "text/plain": [
       "{'id': 'chatcmpl-A9IQGysenbhH83ewQRuowscSt13rD',\n",
       " 'choices': [{'finish_reason': 'stop',\n",
       "   'index': 0,\n",
       "   'logprobs': None,\n",
       "   'message': {'content': \"heart, it knows what is best for you. Trust your instincts and follow your intuition. Don't let fear or doubt hold you back from pursuing your dreams and goals. Stay true to yourself and listen to the inner voice that guides you towards happiness and fulfillment. Trust in your own wisdom and have faith in your abilities to overcome any challenges that come your way. Remember, you are capable of achieving great things when you listen to your heart and follow your passions.\",\n",
       "    'refusal': None,\n",
       "    'role': 'assistant'}},\n",
       "  {'finish_reason': 'stop',\n",
       "   'index': 1,\n",
       "   'logprobs': None,\n",
       "   'message': {'content': \"heart, it knows what is best for you. Trust your instincts and follow your intuition. Don't let fear or doubt hold you back from pursuing your dreams and goals. Stay true to yourself and listen to the inner voice that guides you towards happiness and fulfillment. Trust in your own wisdom and have faith in your abilities to overcome any challenges that come your way. Remember, you are capable of achieving great things when you listen to your heart and follow your passions.\",\n",
       "    'refusal': None,\n",
       "    'role': 'assistant'}},\n",
       "  {'finish_reason': 'stop',\n",
       "   'index': 2,\n",
       "   'logprobs': None,\n",
       "   'message': {'content': \"heart, it knows what is best for you. Trust your instincts and follow your intuition. Don't let fear or doubt hold you back from pursuing your dreams and goals. Stay true to yourself and listen to the inner voice that guides you towards happiness and fulfillment. Trust in your own wisdom and have faith in your abilities to overcome any challenges that come your way. Remember, you are capable of achieving great things when you listen to your heart and follow your passions.\",\n",
       "    'refusal': None,\n",
       "    'role': 'assistant'}}],\n",
       " 'created': 1726779132,\n",
       " 'model': 'gpt-3.5-turbo-0125',\n",
       " 'object': 'chat.completion',\n",
       " 'system_fingerprint': None,\n",
       " 'usage': {'completion_tokens': 276,\n",
       "  'prompt_tokens': 10,\n",
       "  'total_tokens': 286,\n",
       "  'completion_tokens_details': {'reasoning_tokens': 0}}}"
      ]
     },
     "execution_count": 64,
     "metadata": {},
     "output_type": "execute_result"
    }
   ],
   "source": [
    "chat_completion.to_dict()"
   ]
  },
  {
   "cell_type": "markdown",
   "metadata": {},
   "source": [
    "#### what is really matters from the json response is the choices"
   ]
  },
  {
   "cell_type": "code",
   "execution_count": 45,
   "metadata": {},
   "outputs": [
    {
     "data": {
      "text/plain": [
       "' heart and trust'"
      ]
     },
     "execution_count": 45,
     "metadata": {},
     "output_type": "execute_result"
    }
   ],
   "source": [
    "chat_completion.choices[0].message.content"
   ]
  },
  {
   "cell_type": "markdown",
   "metadata": {},
   "source": [
    "Example:"
   ]
  },
  {
   "cell_type": "code",
   "execution_count": 66,
   "metadata": {},
   "outputs": [],
   "source": [
    "messages = [\n",
    "    {\"role\":\"system\",\"content\":\"you are the best therapist in the world\"},\n",
    "    {\"role\": \"user\",\"content\": \"tell me how to accomplish a task \"}\n",
    "]"
   ]
  },
  {
   "cell_type": "code",
   "execution_count": 73,
   "metadata": {},
   "outputs": [
    {
     "name": "stdout",
     "output_type": "stream",
     "text": [
      "following these steps and staying organized, you can effectively\n",
      "0\n",
      "accomplish any task you set your mind to\n",
      "1\n",
      ". Remember to stay focused, stay positive, and\n",
      "2\n"
     ]
    }
   ],
   "source": [
    "for i in range (3):\n",
    "\n",
    "    chat_completion_2 = client.chat.completions.create(\n",
    "        messages=messages,\n",
    "        model=\"gpt-3.5-turbo\",\n",
    "        temperature=0,\n",
    "        max_completion_tokens=10\n",
    "    )\n",
    "    print(chat_completion_2.choices[0].message.content)\n",
    "    print(i)\n",
    "    new_message = {\"role\": \"assistant\",\"content\": chat_completion_2.choices[0].message.content}\n",
    "    messages.append(new_message)\n",
    "    time.sleep(0.1)\n",
    "\n"
   ]
  }
 ],
 "metadata": {
  "kernelspec": {
   "display_name": "Python 3",
   "language": "python",
   "name": "python3"
  },
  "language_info": {
   "codemirror_mode": {
    "name": "ipython",
    "version": 3
   },
   "file_extension": ".py",
   "mimetype": "text/x-python",
   "name": "python",
   "nbconvert_exporter": "python",
   "pygments_lexer": "ipython3",
   "version": "3.10.11"
  }
 },
 "nbformat": 4,
 "nbformat_minor": 2
}
